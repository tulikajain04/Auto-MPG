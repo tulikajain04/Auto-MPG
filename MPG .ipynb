{
 "cells": [
  {
   "cell_type": "markdown",
   "metadata": {},
   "source": [
    "# Introduction\n",
    "I am trying to gain experience and improve day by day in analysis and model training. This was my aim while preparing this notebook.\n",
    "What's in this notebook?\n",
    "\n",
    "1. Explorating and visualising the data with pandas and seaborn packages\n",
    "2. Building regression models to get some stable results with sklearn.\n",
    "\n",
    "### Data Set Information:\n",
    "This dataset is a slightly modified version of the dataset provided in the StatLib library. In line with the use by Ross Quinlan (1993) in predicting the attribute \"mpg\", 8 of the original instances were removed because they had unknown values for the \"mpg\" attribute. The original dataset is available in the file \"auto-mpg.data-original\".\n",
    "\n",
    "Attribute Information:\n",
    "1. mpg: continuous \n",
    "2. cylinders: multi-valued discrete\n",
    "3. displacement: continuous\n",
    "4. horsepower: continuous\n",
    "5. weight: continuous\n",
    "6. acceleration: continuous\n",
    "7. model year: multi-valued discrete\n",
    "8. origin: multi-valued discrete\n",
    "9. car name: string (unique for each instance)"
   ]
  },
  {
   "cell_type": "code",
   "execution_count": 1,
   "metadata": {},
   "outputs": [],
   "source": [
    "#import necessary libraries\n",
    "import pandas as pd\n",
    "import numpy as np\n",
    "import seaborn as sns\n",
    "import matplotlib.pyplot as plt\n",
    "%matplotlib inline\n",
    "import re"
   ]
  },
  {
   "cell_type": "code",
   "execution_count": 2,
   "metadata": {},
   "outputs": [
    {
     "name": "stdout",
     "output_type": "stream",
     "text": [
      "Untitled.ipynb\n",
      "auto-mpg.csv\n"
     ]
    }
   ],
   "source": [
    "!ls"
   ]
  },
  {
   "cell_type": "code",
   "execution_count": 3,
   "metadata": {},
   "outputs": [],
   "source": [
    "#function to load the data\n",
    "def load_data(path):\n",
    "    return pd.read_csv(path)"
   ]
  },
  {
   "cell_type": "code",
   "execution_count": 4,
   "metadata": {},
   "outputs": [],
   "source": [
    "#call function to load the data\n",
    "mpg=load_data(\"auto-mpg.csv\")"
   ]
  },
  {
   "cell_type": "code",
   "execution_count": 5,
   "metadata": {},
   "outputs": [],
   "source": [
    "#make copy of original dataset\n",
    "data=mpg.copy()"
   ]
  },
  {
   "cell_type": "code",
   "execution_count": 173,
   "metadata": {},
   "outputs": [
    {
     "data": {
      "text/plain": [
       "(398, 8)"
      ]
     },
     "execution_count": 173,
     "metadata": {},
     "output_type": "execute_result"
    }
   ],
   "source": [
    "# Check the shape of dataset\n",
    "data.shape"
   ]
  },
  {
   "cell_type": "markdown",
   "metadata": {},
   "source": [
    "this dataset has 9 features with 398 rows."
   ]
  },
  {
   "cell_type": "code",
   "execution_count": 7,
   "metadata": {},
   "outputs": [
    {
     "data": {
      "text/html": [
       "<div>\n",
       "<style scoped>\n",
       "    .dataframe tbody tr th:only-of-type {\n",
       "        vertical-align: middle;\n",
       "    }\n",
       "\n",
       "    .dataframe tbody tr th {\n",
       "        vertical-align: top;\n",
       "    }\n",
       "\n",
       "    .dataframe thead th {\n",
       "        text-align: right;\n",
       "    }\n",
       "</style>\n",
       "<table border=\"1\" class=\"dataframe\">\n",
       "  <thead>\n",
       "    <tr style=\"text-align: right;\">\n",
       "      <th></th>\n",
       "      <th>mpg</th>\n",
       "      <th>cylinders</th>\n",
       "      <th>displacement</th>\n",
       "      <th>horsepower</th>\n",
       "      <th>weight</th>\n",
       "      <th>acceleration</th>\n",
       "      <th>model year</th>\n",
       "      <th>origin</th>\n",
       "      <th>car name</th>\n",
       "    </tr>\n",
       "  </thead>\n",
       "  <tbody>\n",
       "    <tr>\n",
       "      <th>0</th>\n",
       "      <td>18.0</td>\n",
       "      <td>8</td>\n",
       "      <td>307.0</td>\n",
       "      <td>130</td>\n",
       "      <td>3504</td>\n",
       "      <td>12.0</td>\n",
       "      <td>70</td>\n",
       "      <td>1</td>\n",
       "      <td>chevrolet chevelle malibu</td>\n",
       "    </tr>\n",
       "    <tr>\n",
       "      <th>1</th>\n",
       "      <td>15.0</td>\n",
       "      <td>8</td>\n",
       "      <td>350.0</td>\n",
       "      <td>165</td>\n",
       "      <td>3693</td>\n",
       "      <td>11.5</td>\n",
       "      <td>70</td>\n",
       "      <td>1</td>\n",
       "      <td>buick skylark 320</td>\n",
       "    </tr>\n",
       "    <tr>\n",
       "      <th>2</th>\n",
       "      <td>18.0</td>\n",
       "      <td>8</td>\n",
       "      <td>318.0</td>\n",
       "      <td>150</td>\n",
       "      <td>3436</td>\n",
       "      <td>11.0</td>\n",
       "      <td>70</td>\n",
       "      <td>1</td>\n",
       "      <td>plymouth satellite</td>\n",
       "    </tr>\n",
       "    <tr>\n",
       "      <th>3</th>\n",
       "      <td>16.0</td>\n",
       "      <td>8</td>\n",
       "      <td>304.0</td>\n",
       "      <td>150</td>\n",
       "      <td>3433</td>\n",
       "      <td>12.0</td>\n",
       "      <td>70</td>\n",
       "      <td>1</td>\n",
       "      <td>amc rebel sst</td>\n",
       "    </tr>\n",
       "    <tr>\n",
       "      <th>4</th>\n",
       "      <td>17.0</td>\n",
       "      <td>8</td>\n",
       "      <td>302.0</td>\n",
       "      <td>140</td>\n",
       "      <td>3449</td>\n",
       "      <td>10.5</td>\n",
       "      <td>70</td>\n",
       "      <td>1</td>\n",
       "      <td>ford torino</td>\n",
       "    </tr>\n",
       "  </tbody>\n",
       "</table>\n",
       "</div>"
      ],
      "text/plain": [
       "    mpg  cylinders  displacement horsepower  weight  acceleration  model year  \\\n",
       "0  18.0          8         307.0        130    3504          12.0          70   \n",
       "1  15.0          8         350.0        165    3693          11.5          70   \n",
       "2  18.0          8         318.0        150    3436          11.0          70   \n",
       "3  16.0          8         304.0        150    3433          12.0          70   \n",
       "4  17.0          8         302.0        140    3449          10.5          70   \n",
       "\n",
       "   origin                   car name  \n",
       "0       1  chevrolet chevelle malibu  \n",
       "1       1          buick skylark 320  \n",
       "2       1         plymouth satellite  \n",
       "3       1              amc rebel sst  \n",
       "4       1                ford torino  "
      ]
     },
     "execution_count": 7,
     "metadata": {},
     "output_type": "execute_result"
    }
   ],
   "source": [
    "# Head of dataset\n",
    "data.head()"
   ]
  },
  {
   "cell_type": "markdown",
   "metadata": {},
   "source": [
    "in this daatset car name and car brand are in one feature. So to check more insights in this we need todo feature engineering to this dataset. So we do feature extraction to split the car name feature into car name and car brand."
   ]
  },
  {
   "cell_type": "code",
   "execution_count": 8,
   "metadata": {},
   "outputs": [],
   "source": [
    "#Split the car name into brand and model\n",
    "car_name=[]\n",
    "car_model=[]\n",
    "for i in data['car name']:\n",
    "    car_name.append(i.split()[0])\n",
    "    car_model.append(i.split(None,1)[1:])\n",
    "    "
   ]
  },
  {
   "cell_type": "code",
   "execution_count": 9,
   "metadata": {},
   "outputs": [],
   "source": [
    "data['car_name']=car_name\n",
    "data['car_model']=car_model"
   ]
  },
  {
   "cell_type": "code",
   "execution_count": 10,
   "metadata": {},
   "outputs": [],
   "source": [
    "data=data.drop(['car name'], axis=1)"
   ]
  },
  {
   "cell_type": "code",
   "execution_count": 11,
   "metadata": {},
   "outputs": [],
   "source": [
    "data['car_model']=data['car_model'].astype(str)\n",
    "data.loc[data.car_model.notna().index,'car_model'] = data.car_model[data.car_model.notna()].apply(lambda x: re.sub('[\\W_]+','',x))\n"
   ]
  },
  {
   "cell_type": "code",
   "execution_count": 12,
   "metadata": {},
   "outputs": [
    {
     "data": {
      "text/html": [
       "<div>\n",
       "<style scoped>\n",
       "    .dataframe tbody tr th:only-of-type {\n",
       "        vertical-align: middle;\n",
       "    }\n",
       "\n",
       "    .dataframe tbody tr th {\n",
       "        vertical-align: top;\n",
       "    }\n",
       "\n",
       "    .dataframe thead th {\n",
       "        text-align: right;\n",
       "    }\n",
       "</style>\n",
       "<table border=\"1\" class=\"dataframe\">\n",
       "  <thead>\n",
       "    <tr style=\"text-align: right;\">\n",
       "      <th></th>\n",
       "      <th>mpg</th>\n",
       "      <th>cylinders</th>\n",
       "      <th>displacement</th>\n",
       "      <th>horsepower</th>\n",
       "      <th>weight</th>\n",
       "      <th>acceleration</th>\n",
       "      <th>model year</th>\n",
       "      <th>origin</th>\n",
       "      <th>car_name</th>\n",
       "      <th>car_model</th>\n",
       "    </tr>\n",
       "  </thead>\n",
       "  <tbody>\n",
       "    <tr>\n",
       "      <th>0</th>\n",
       "      <td>18.0</td>\n",
       "      <td>8</td>\n",
       "      <td>307.0</td>\n",
       "      <td>130</td>\n",
       "      <td>3504</td>\n",
       "      <td>12.0</td>\n",
       "      <td>70</td>\n",
       "      <td>1</td>\n",
       "      <td>chevrolet</td>\n",
       "      <td>chevellemalibu</td>\n",
       "    </tr>\n",
       "    <tr>\n",
       "      <th>1</th>\n",
       "      <td>15.0</td>\n",
       "      <td>8</td>\n",
       "      <td>350.0</td>\n",
       "      <td>165</td>\n",
       "      <td>3693</td>\n",
       "      <td>11.5</td>\n",
       "      <td>70</td>\n",
       "      <td>1</td>\n",
       "      <td>buick</td>\n",
       "      <td>skylark320</td>\n",
       "    </tr>\n",
       "    <tr>\n",
       "      <th>2</th>\n",
       "      <td>18.0</td>\n",
       "      <td>8</td>\n",
       "      <td>318.0</td>\n",
       "      <td>150</td>\n",
       "      <td>3436</td>\n",
       "      <td>11.0</td>\n",
       "      <td>70</td>\n",
       "      <td>1</td>\n",
       "      <td>plymouth</td>\n",
       "      <td>satellite</td>\n",
       "    </tr>\n",
       "    <tr>\n",
       "      <th>3</th>\n",
       "      <td>16.0</td>\n",
       "      <td>8</td>\n",
       "      <td>304.0</td>\n",
       "      <td>150</td>\n",
       "      <td>3433</td>\n",
       "      <td>12.0</td>\n",
       "      <td>70</td>\n",
       "      <td>1</td>\n",
       "      <td>amc</td>\n",
       "      <td>rebelsst</td>\n",
       "    </tr>\n",
       "    <tr>\n",
       "      <th>4</th>\n",
       "      <td>17.0</td>\n",
       "      <td>8</td>\n",
       "      <td>302.0</td>\n",
       "      <td>140</td>\n",
       "      <td>3449</td>\n",
       "      <td>10.5</td>\n",
       "      <td>70</td>\n",
       "      <td>1</td>\n",
       "      <td>ford</td>\n",
       "      <td>torino</td>\n",
       "    </tr>\n",
       "    <tr>\n",
       "      <th>...</th>\n",
       "      <td>...</td>\n",
       "      <td>...</td>\n",
       "      <td>...</td>\n",
       "      <td>...</td>\n",
       "      <td>...</td>\n",
       "      <td>...</td>\n",
       "      <td>...</td>\n",
       "      <td>...</td>\n",
       "      <td>...</td>\n",
       "      <td>...</td>\n",
       "    </tr>\n",
       "    <tr>\n",
       "      <th>393</th>\n",
       "      <td>27.0</td>\n",
       "      <td>4</td>\n",
       "      <td>140.0</td>\n",
       "      <td>86</td>\n",
       "      <td>2790</td>\n",
       "      <td>15.6</td>\n",
       "      <td>82</td>\n",
       "      <td>1</td>\n",
       "      <td>ford</td>\n",
       "      <td>mustanggl</td>\n",
       "    </tr>\n",
       "    <tr>\n",
       "      <th>394</th>\n",
       "      <td>44.0</td>\n",
       "      <td>4</td>\n",
       "      <td>97.0</td>\n",
       "      <td>52</td>\n",
       "      <td>2130</td>\n",
       "      <td>24.6</td>\n",
       "      <td>82</td>\n",
       "      <td>2</td>\n",
       "      <td>vw</td>\n",
       "      <td>pickup</td>\n",
       "    </tr>\n",
       "    <tr>\n",
       "      <th>395</th>\n",
       "      <td>32.0</td>\n",
       "      <td>4</td>\n",
       "      <td>135.0</td>\n",
       "      <td>84</td>\n",
       "      <td>2295</td>\n",
       "      <td>11.6</td>\n",
       "      <td>82</td>\n",
       "      <td>1</td>\n",
       "      <td>dodge</td>\n",
       "      <td>rampage</td>\n",
       "    </tr>\n",
       "    <tr>\n",
       "      <th>396</th>\n",
       "      <td>28.0</td>\n",
       "      <td>4</td>\n",
       "      <td>120.0</td>\n",
       "      <td>79</td>\n",
       "      <td>2625</td>\n",
       "      <td>18.6</td>\n",
       "      <td>82</td>\n",
       "      <td>1</td>\n",
       "      <td>ford</td>\n",
       "      <td>ranger</td>\n",
       "    </tr>\n",
       "    <tr>\n",
       "      <th>397</th>\n",
       "      <td>31.0</td>\n",
       "      <td>4</td>\n",
       "      <td>119.0</td>\n",
       "      <td>82</td>\n",
       "      <td>2720</td>\n",
       "      <td>19.4</td>\n",
       "      <td>82</td>\n",
       "      <td>1</td>\n",
       "      <td>chevy</td>\n",
       "      <td>s10</td>\n",
       "    </tr>\n",
       "  </tbody>\n",
       "</table>\n",
       "<p>398 rows × 10 columns</p>\n",
       "</div>"
      ],
      "text/plain": [
       "      mpg  cylinders  displacement horsepower  weight  acceleration  \\\n",
       "0    18.0          8         307.0        130    3504          12.0   \n",
       "1    15.0          8         350.0        165    3693          11.5   \n",
       "2    18.0          8         318.0        150    3436          11.0   \n",
       "3    16.0          8         304.0        150    3433          12.0   \n",
       "4    17.0          8         302.0        140    3449          10.5   \n",
       "..    ...        ...           ...        ...     ...           ...   \n",
       "393  27.0          4         140.0         86    2790          15.6   \n",
       "394  44.0          4          97.0         52    2130          24.6   \n",
       "395  32.0          4         135.0         84    2295          11.6   \n",
       "396  28.0          4         120.0         79    2625          18.6   \n",
       "397  31.0          4         119.0         82    2720          19.4   \n",
       "\n",
       "     model year  origin   car_name       car_model  \n",
       "0            70       1  chevrolet  chevellemalibu  \n",
       "1            70       1      buick      skylark320  \n",
       "2            70       1   plymouth       satellite  \n",
       "3            70       1        amc        rebelsst  \n",
       "4            70       1       ford          torino  \n",
       "..          ...     ...        ...             ...  \n",
       "393          82       1       ford       mustanggl  \n",
       "394          82       2         vw          pickup  \n",
       "395          82       1      dodge         rampage  \n",
       "396          82       1       ford          ranger  \n",
       "397          82       1      chevy             s10  \n",
       "\n",
       "[398 rows x 10 columns]"
      ]
     },
     "execution_count": 12,
     "metadata": {},
     "output_type": "execute_result"
    }
   ],
   "source": [
    "data"
   ]
  },
  {
   "cell_type": "code",
   "execution_count": 13,
   "metadata": {},
   "outputs": [
    {
     "name": "stdout",
     "output_type": "stream",
     "text": [
      "<class 'pandas.core.frame.DataFrame'>\n",
      "RangeIndex: 398 entries, 0 to 397\n",
      "Data columns (total 10 columns):\n",
      " #   Column        Non-Null Count  Dtype  \n",
      "---  ------        --------------  -----  \n",
      " 0   mpg           398 non-null    float64\n",
      " 1   cylinders     398 non-null    int64  \n",
      " 2   displacement  398 non-null    float64\n",
      " 3   horsepower    398 non-null    object \n",
      " 4   weight        398 non-null    int64  \n",
      " 5   acceleration  398 non-null    float64\n",
      " 6   model year    398 non-null    int64  \n",
      " 7   origin        398 non-null    int64  \n",
      " 8   car_name      398 non-null    object \n",
      " 9   car_model     398 non-null    object \n",
      "dtypes: float64(3), int64(4), object(3)\n",
      "memory usage: 31.2+ KB\n"
     ]
    }
   ],
   "source": [
    "#info of dataset\n",
    "data.info()"
   ]
  },
  {
   "cell_type": "markdown",
   "metadata": {},
   "source": [
    "as we notice that features are int, float and object types"
   ]
  },
  {
   "cell_type": "code",
   "execution_count": 14,
   "metadata": {},
   "outputs": [
    {
     "data": {
      "text/html": [
       "<div>\n",
       "<style scoped>\n",
       "    .dataframe tbody tr th:only-of-type {\n",
       "        vertical-align: middle;\n",
       "    }\n",
       "\n",
       "    .dataframe tbody tr th {\n",
       "        vertical-align: top;\n",
       "    }\n",
       "\n",
       "    .dataframe thead th {\n",
       "        text-align: right;\n",
       "    }\n",
       "</style>\n",
       "<table border=\"1\" class=\"dataframe\">\n",
       "  <thead>\n",
       "    <tr style=\"text-align: right;\">\n",
       "      <th></th>\n",
       "      <th>mpg</th>\n",
       "      <th>cylinders</th>\n",
       "      <th>displacement</th>\n",
       "      <th>weight</th>\n",
       "      <th>acceleration</th>\n",
       "      <th>model year</th>\n",
       "      <th>origin</th>\n",
       "    </tr>\n",
       "  </thead>\n",
       "  <tbody>\n",
       "    <tr>\n",
       "      <th>count</th>\n",
       "      <td>398.000000</td>\n",
       "      <td>398.000000</td>\n",
       "      <td>398.000000</td>\n",
       "      <td>398.000000</td>\n",
       "      <td>398.000000</td>\n",
       "      <td>398.000000</td>\n",
       "      <td>398.000000</td>\n",
       "    </tr>\n",
       "    <tr>\n",
       "      <th>mean</th>\n",
       "      <td>23.514573</td>\n",
       "      <td>5.454774</td>\n",
       "      <td>193.425879</td>\n",
       "      <td>2970.424623</td>\n",
       "      <td>15.568090</td>\n",
       "      <td>76.010050</td>\n",
       "      <td>1.572864</td>\n",
       "    </tr>\n",
       "    <tr>\n",
       "      <th>std</th>\n",
       "      <td>7.815984</td>\n",
       "      <td>1.701004</td>\n",
       "      <td>104.269838</td>\n",
       "      <td>846.841774</td>\n",
       "      <td>2.757689</td>\n",
       "      <td>3.697627</td>\n",
       "      <td>0.802055</td>\n",
       "    </tr>\n",
       "    <tr>\n",
       "      <th>min</th>\n",
       "      <td>9.000000</td>\n",
       "      <td>3.000000</td>\n",
       "      <td>68.000000</td>\n",
       "      <td>1613.000000</td>\n",
       "      <td>8.000000</td>\n",
       "      <td>70.000000</td>\n",
       "      <td>1.000000</td>\n",
       "    </tr>\n",
       "    <tr>\n",
       "      <th>25%</th>\n",
       "      <td>17.500000</td>\n",
       "      <td>4.000000</td>\n",
       "      <td>104.250000</td>\n",
       "      <td>2223.750000</td>\n",
       "      <td>13.825000</td>\n",
       "      <td>73.000000</td>\n",
       "      <td>1.000000</td>\n",
       "    </tr>\n",
       "    <tr>\n",
       "      <th>50%</th>\n",
       "      <td>23.000000</td>\n",
       "      <td>4.000000</td>\n",
       "      <td>148.500000</td>\n",
       "      <td>2803.500000</td>\n",
       "      <td>15.500000</td>\n",
       "      <td>76.000000</td>\n",
       "      <td>1.000000</td>\n",
       "    </tr>\n",
       "    <tr>\n",
       "      <th>75%</th>\n",
       "      <td>29.000000</td>\n",
       "      <td>8.000000</td>\n",
       "      <td>262.000000</td>\n",
       "      <td>3608.000000</td>\n",
       "      <td>17.175000</td>\n",
       "      <td>79.000000</td>\n",
       "      <td>2.000000</td>\n",
       "    </tr>\n",
       "    <tr>\n",
       "      <th>max</th>\n",
       "      <td>46.600000</td>\n",
       "      <td>8.000000</td>\n",
       "      <td>455.000000</td>\n",
       "      <td>5140.000000</td>\n",
       "      <td>24.800000</td>\n",
       "      <td>82.000000</td>\n",
       "      <td>3.000000</td>\n",
       "    </tr>\n",
       "  </tbody>\n",
       "</table>\n",
       "</div>"
      ],
      "text/plain": [
       "              mpg   cylinders  displacement       weight  acceleration  \\\n",
       "count  398.000000  398.000000    398.000000   398.000000    398.000000   \n",
       "mean    23.514573    5.454774    193.425879  2970.424623     15.568090   \n",
       "std      7.815984    1.701004    104.269838   846.841774      2.757689   \n",
       "min      9.000000    3.000000     68.000000  1613.000000      8.000000   \n",
       "25%     17.500000    4.000000    104.250000  2223.750000     13.825000   \n",
       "50%     23.000000    4.000000    148.500000  2803.500000     15.500000   \n",
       "75%     29.000000    8.000000    262.000000  3608.000000     17.175000   \n",
       "max     46.600000    8.000000    455.000000  5140.000000     24.800000   \n",
       "\n",
       "       model year      origin  \n",
       "count  398.000000  398.000000  \n",
       "mean    76.010050    1.572864  \n",
       "std      3.697627    0.802055  \n",
       "min     70.000000    1.000000  \n",
       "25%     73.000000    1.000000  \n",
       "50%     76.000000    1.000000  \n",
       "75%     79.000000    2.000000  \n",
       "max     82.000000    3.000000  "
      ]
     },
     "execution_count": 14,
     "metadata": {},
     "output_type": "execute_result"
    }
   ],
   "source": [
    "#description of data\n",
    "data.describe()"
   ]
  },
  {
   "cell_type": "markdown",
   "metadata": {},
   "source": [
    "we can analyze that mostly data of mpg features are scattered arounf 7.8 and the average weight of cars is 2970"
   ]
  },
  {
   "cell_type": "code",
   "execution_count": 15,
   "metadata": {},
   "outputs": [
    {
     "data": {
      "text/plain": [
       "mpg             0\n",
       "cylinders       0\n",
       "displacement    0\n",
       "horsepower      0\n",
       "weight          0\n",
       "acceleration    0\n",
       "model year      0\n",
       "origin          0\n",
       "car_name        0\n",
       "car_model       0\n",
       "dtype: int64"
      ]
     },
     "execution_count": 15,
     "metadata": {},
     "output_type": "execute_result"
    }
   ],
   "source": [
    "#Check null  values\n",
    "data.isna().sum()"
   ]
  },
  {
   "cell_type": "markdown",
   "metadata": {},
   "source": [
    "there is no null value in this dataset."
   ]
  },
  {
   "cell_type": "code",
   "execution_count": 16,
   "metadata": {},
   "outputs": [
    {
     "name": "stderr",
     "output_type": "stream",
     "text": [
      "C:\\Users\\Admin\\anaconda3\\lib\\site-packages\\pandas\\core\\ops\\array_ops.py:253: FutureWarning: elementwise comparison failed; returning scalar instead, but in the future will perform elementwise comparison\n",
      "  res_values = method(rvalues)\n"
     ]
    },
    {
     "data": {
      "text/plain": [
       "mpg             0\n",
       "cylinders       0\n",
       "displacement    0\n",
       "horsepower      6\n",
       "weight          0\n",
       "acceleration    0\n",
       "model year      0\n",
       "origin          0\n",
       "car_name        0\n",
       "car_model       0\n",
       "dtype: int64"
      ]
     },
     "execution_count": 16,
     "metadata": {},
     "output_type": "execute_result"
    }
   ],
   "source": [
    "# here are not any null values but can be space variable\n",
    "(data == \"?\").sum()"
   ]
  },
  {
   "cell_type": "markdown",
   "metadata": {},
   "source": [
    "Here we notice that horsepower feaures ahs some blank space so we need to fix it."
   ]
  },
  {
   "cell_type": "code",
   "execution_count": 17,
   "metadata": {},
   "outputs": [],
   "source": [
    "#replace space value with null values\n",
    "data[\"horsepower\"] = data[\"horsepower\"].replace(\"?\", np.NaN).astype(\"float64\")"
   ]
  },
  {
   "cell_type": "code",
   "execution_count": 18,
   "metadata": {},
   "outputs": [
    {
     "data": {
      "text/plain": [
       "mpg             0\n",
       "cylinders       0\n",
       "displacement    0\n",
       "horsepower      6\n",
       "weight          0\n",
       "acceleration    0\n",
       "model year      0\n",
       "origin          0\n",
       "car_name        0\n",
       "car_model       0\n",
       "dtype: int64"
      ]
     },
     "execution_count": 18,
     "metadata": {},
     "output_type": "execute_result"
    }
   ],
   "source": [
    "data.isna().sum()"
   ]
  },
  {
   "cell_type": "markdown",
   "metadata": {},
   "source": [
    "after replce spce value with nan, we see horse power has 6 null values. I donnt want to fix it randomely so we first check the corr of horsepower feature with other features,"
   ]
  },
  {
   "cell_type": "code",
   "execution_count": 19,
   "metadata": {},
   "outputs": [
    {
     "data": {
      "text/html": [
       "<style  type=\"text/css\" >\n",
       "    #T_5a88fb6e_9575_11eb_8ee4_5800e38b14aarow0_col2 {\n",
       "            background-color:  #b40426;\n",
       "            color:  #f1f1f1;\n",
       "        }    #T_5a88fb6e_9575_11eb_8ee4_5800e38b14aarow1_col2 {\n",
       "            background-color:  #e97a5f;\n",
       "            color:  #000000;\n",
       "        }    #T_5a88fb6e_9575_11eb_8ee4_5800e38b14aarow2_col2 {\n",
       "            background-color:  #f29274;\n",
       "            color:  #000000;\n",
       "        }    #T_5a88fb6e_9575_11eb_8ee4_5800e38b14aarow3_col2 {\n",
       "            background-color:  #f5a081;\n",
       "            color:  #000000;\n",
       "        }    #T_5a88fb6e_9575_11eb_8ee4_5800e38b14aarow4_col2 {\n",
       "            background-color:  #f4c6af;\n",
       "            color:  #000000;\n",
       "        }    #T_5a88fb6e_9575_11eb_8ee4_5800e38b14aarow5_col2 {\n",
       "            background-color:  #d4dbe6;\n",
       "            color:  #000000;\n",
       "        }    #T_5a88fb6e_9575_11eb_8ee4_5800e38b14aarow6_col2 {\n",
       "            background-color:  #4f69d9;\n",
       "            color:  #000000;\n",
       "        }    #T_5a88fb6e_9575_11eb_8ee4_5800e38b14aarow7_col2 {\n",
       "            background-color:  #3b4cc0;\n",
       "            color:  #f1f1f1;\n",
       "        }</style><table id=\"T_5a88fb6e_9575_11eb_8ee4_5800e38b14aa\" ><thead>    <tr>        <th class=\"blank level0\" ></th>        <th class=\"col_heading level0 col0\" >Feature A</th>        <th class=\"col_heading level0 col1\" >Feature B</th>        <th class=\"col_heading level0 col2\" >Correlation Coefs.</th>    </tr></thead><tbody>\n",
       "                <tr>\n",
       "                        <th id=\"T_5a88fb6e_9575_11eb_8ee4_5800e38b14aalevel0_row0\" class=\"row_heading level0 row0\" >4</th>\n",
       "                        <td id=\"T_5a88fb6e_9575_11eb_8ee4_5800e38b14aarow0_col0\" class=\"data row0 col0\" >horsepower</td>\n",
       "                        <td id=\"T_5a88fb6e_9575_11eb_8ee4_5800e38b14aarow0_col1\" class=\"data row0 col1\" >horsepower</td>\n",
       "                        <td id=\"T_5a88fb6e_9575_11eb_8ee4_5800e38b14aarow0_col2\" class=\"data row0 col2\" >1.000000</td>\n",
       "            </tr>\n",
       "            <tr>\n",
       "                        <th id=\"T_5a88fb6e_9575_11eb_8ee4_5800e38b14aalevel0_row1\" class=\"row_heading level0 row1\" >12</th>\n",
       "                        <td id=\"T_5a88fb6e_9575_11eb_8ee4_5800e38b14aarow1_col0\" class=\"data row1 col0\" >horsepower</td>\n",
       "                        <td id=\"T_5a88fb6e_9575_11eb_8ee4_5800e38b14aarow1_col1\" class=\"data row1 col1\" >displacement</td>\n",
       "                        <td id=\"T_5a88fb6e_9575_11eb_8ee4_5800e38b14aarow1_col2\" class=\"data row1 col2\" >0.897257</td>\n",
       "            </tr>\n",
       "            <tr>\n",
       "                        <th id=\"T_5a88fb6e_9575_11eb_8ee4_5800e38b14aalevel0_row2\" class=\"row_heading level0 row2\" >16</th>\n",
       "                        <td id=\"T_5a88fb6e_9575_11eb_8ee4_5800e38b14aarow2_col0\" class=\"data row2 col0\" >horsepower</td>\n",
       "                        <td id=\"T_5a88fb6e_9575_11eb_8ee4_5800e38b14aarow2_col1\" class=\"data row2 col1\" >weight</td>\n",
       "                        <td id=\"T_5a88fb6e_9575_11eb_8ee4_5800e38b14aarow2_col2\" class=\"data row2 col2\" >0.864538</td>\n",
       "            </tr>\n",
       "            <tr>\n",
       "                        <th id=\"T_5a88fb6e_9575_11eb_8ee4_5800e38b14aalevel0_row3\" class=\"row_heading level0 row3\" >19</th>\n",
       "                        <td id=\"T_5a88fb6e_9575_11eb_8ee4_5800e38b14aarow3_col0\" class=\"data row3 col0\" >horsepower</td>\n",
       "                        <td id=\"T_5a88fb6e_9575_11eb_8ee4_5800e38b14aarow3_col1\" class=\"data row3 col1\" >cylinders</td>\n",
       "                        <td id=\"T_5a88fb6e_9575_11eb_8ee4_5800e38b14aarow3_col2\" class=\"data row3 col2\" >0.842983</td>\n",
       "            </tr>\n",
       "            <tr>\n",
       "                        <th id=\"T_5a88fb6e_9575_11eb_8ee4_5800e38b14aalevel0_row4\" class=\"row_heading level0 row4\" >25</th>\n",
       "                        <td id=\"T_5a88fb6e_9575_11eb_8ee4_5800e38b14aarow4_col0\" class=\"data row4 col0\" >horsepower</td>\n",
       "                        <td id=\"T_5a88fb6e_9575_11eb_8ee4_5800e38b14aarow4_col1\" class=\"data row4 col1\" >mpg</td>\n",
       "                        <td id=\"T_5a88fb6e_9575_11eb_8ee4_5800e38b14aarow4_col2\" class=\"data row4 col2\" >0.778427</td>\n",
       "            </tr>\n",
       "            <tr>\n",
       "                        <th id=\"T_5a88fb6e_9575_11eb_8ee4_5800e38b14aalevel0_row5\" class=\"row_heading level0 row5\" >28</th>\n",
       "                        <td id=\"T_5a88fb6e_9575_11eb_8ee4_5800e38b14aarow5_col0\" class=\"data row5 col0\" >horsepower</td>\n",
       "                        <td id=\"T_5a88fb6e_9575_11eb_8ee4_5800e38b14aarow5_col1\" class=\"data row5 col1\" >acceleration</td>\n",
       "                        <td id=\"T_5a88fb6e_9575_11eb_8ee4_5800e38b14aarow5_col2\" class=\"data row5 col2\" >0.689196</td>\n",
       "            </tr>\n",
       "            <tr>\n",
       "                        <th id=\"T_5a88fb6e_9575_11eb_8ee4_5800e38b14aalevel0_row6\" class=\"row_heading level0 row6\" >45</th>\n",
       "                        <td id=\"T_5a88fb6e_9575_11eb_8ee4_5800e38b14aarow6_col0\" class=\"data row6 col0\" >horsepower</td>\n",
       "                        <td id=\"T_5a88fb6e_9575_11eb_8ee4_5800e38b14aarow6_col1\" class=\"data row6 col1\" >origin</td>\n",
       "                        <td id=\"T_5a88fb6e_9575_11eb_8ee4_5800e38b14aarow6_col2\" class=\"data row6 col2\" >0.455171</td>\n",
       "            </tr>\n",
       "            <tr>\n",
       "                        <th id=\"T_5a88fb6e_9575_11eb_8ee4_5800e38b14aalevel0_row7\" class=\"row_heading level0 row7\" >50</th>\n",
       "                        <td id=\"T_5a88fb6e_9575_11eb_8ee4_5800e38b14aarow7_col0\" class=\"data row7 col0\" >horsepower</td>\n",
       "                        <td id=\"T_5a88fb6e_9575_11eb_8ee4_5800e38b14aarow7_col1\" class=\"data row7 col1\" >model year</td>\n",
       "                        <td id=\"T_5a88fb6e_9575_11eb_8ee4_5800e38b14aarow7_col2\" class=\"data row7 col2\" >0.416361</td>\n",
       "            </tr>\n",
       "    </tbody></table>"
      ],
      "text/plain": [
       "<pandas.io.formats.style.Styler at 0x288c6608190>"
      ]
     },
     "execution_count": 19,
     "metadata": {},
     "output_type": "execute_result"
    }
   ],
   "source": [
    "data_corr=data.corr().abs().unstack().sort_values(kind = \"quiksort\", ascending = False).reset_index()\n",
    "\n",
    "data_corr.rename(columns = {\"level_0\": \"Feature A\",\n",
    "                            \"level_1\": \"Feature B\",\n",
    "                            0:\"Correlation Coefs.\"}, inplace = True)\n",
    "\n",
    "data_corr[data_corr[\"Feature A\"] == \"horsepower\"].style.background_gradient(cmap = \"coolwarm\")"
   ]
  },
  {
   "cell_type": "markdown",
   "metadata": {},
   "source": [
    "we analyse that thsi feature has high correlation with displacement. "
   ]
  },
  {
   "cell_type": "code",
   "execution_count": 20,
   "metadata": {},
   "outputs": [],
   "source": [
    "data.groupby(['displacement'], sort = False)[\"horsepower\"].apply(lambda x: x.fillna(x.mean()))\n",
    "data['horsepower'] = data.groupby(['cylinders'], sort=False)['horsepower'].apply(lambda x: x.fillna(x.mean()))"
   ]
  },
  {
   "cell_type": "markdown",
   "metadata": {},
   "source": [
    "## Data Visualization"
   ]
  },
  {
   "cell_type": "code",
   "execution_count": 21,
   "metadata": {},
   "outputs": [
    {
     "name": "stderr",
     "output_type": "stream",
     "text": [
      "C:\\Users\\Admin\\anaconda3\\lib\\site-packages\\seaborn\\_decorators.py:36: FutureWarning: Pass the following variables as keyword args: x, y. From version 0.12, the only valid positional argument will be `data`, and passing other arguments without an explicit keyword will result in an error or misinterpretation.\n",
      "  warnings.warn(\n"
     ]
    },
    {
     "data": {
      "text/plain": [
       "<matplotlib.axes._subplots.AxesSubplot at 0x288c6a696a0>"
      ]
     },
     "execution_count": 21,
     "metadata": {},
     "output_type": "execute_result"
    },
    {
     "data": {
      "image/png": "[encoded data removed]",
      "text/plain": [
       "<Figure size 432x288 with 1 Axes>"
      ]
     },
     "metadata": {
      "needs_background": "light"
     },
     "output_type": "display_data"
    }
   ],
   "source": [
    "sns.scatterplot('mpg','weight', data=data)"
   ]
  },
  {
   "cell_type": "markdown",
   "metadata": {},
   "source": [
    "we can analysis that as weight decreases, mpg increases. So lighter weight car give more mpg. "
   ]
  },
  {
   "cell_type": "code",
   "execution_count": 22,
   "metadata": {},
   "outputs": [
    {
     "name": "stderr",
     "output_type": "stream",
     "text": [
      "C:\\Users\\Admin\\anaconda3\\lib\\site-packages\\seaborn\\_decorators.py:36: FutureWarning: Pass the following variables as keyword args: x, y. From version 0.12, the only valid positional argument will be `data`, and passing other arguments without an explicit keyword will result in an error or misinterpretation.\n",
      "  warnings.warn(\n"
     ]
    },
    {
     "data": {
      "image/png": "[encoded data removed]",
      "text/plain": [
       "<Figure size 432x288 with 1 Axes>"
      ]
     },
     "metadata": {
      "needs_background": "light"
     },
     "output_type": "display_data"
    }
   ],
   "source": [
    "sns.scatterplot('displacement', 'weight', data=data, hue='origin')\n",
    "plt.grid()\n",
    "plt.show()"
   ]
  },
  {
   "cell_type": "markdown",
   "metadata": {},
   "source": [
    "we can analyse that as heavy weight car can move more rather than light weight car for origin 1 i.e. some car who are 5000 in weight can move 400-450 displacment unit. for origin 3 we can anlyze that some cars those are in 1600 to 2500 in weight can move 70 to 120 displacement"
   ]
  },
  {
   "cell_type": "code",
   "execution_count": 23,
   "metadata": {},
   "outputs": [
    {
     "data": {
      "image/png": "[encoded data removed]",
      "text/plain": [
       "<Figure size 432x288 with 1 Axes>"
      ]
     },
     "metadata": {
      "needs_background": "light"
     },
     "output_type": "display_data"
    }
   ],
   "source": [
    "sns.boxplot(x='origin', y='mpg', data=data)\n",
    "plt.show()"
   ]
  },
  {
   "cell_type": "code",
   "execution_count": 24,
   "metadata": {},
   "outputs": [
    {
     "name": "stderr",
     "output_type": "stream",
     "text": [
      "C:\\Users\\Admin\\anaconda3\\lib\\site-packages\\seaborn\\_decorators.py:36: FutureWarning: Pass the following variable as a keyword arg: x. From version 0.12, the only valid positional argument will be `data`, and passing other arguments without an explicit keyword will result in an error or misinterpretation.\n",
      "  warnings.warn(\n"
     ]
    },
    {
     "data": {
      "image/png": "[encoded data removed]",
      "text/plain": [
       "<Figure size 1440x432 with 1 Axes>"
      ]
     },
     "metadata": {
      "needs_background": "light"
     },
     "output_type": "display_data"
    }
   ],
   "source": [
    "plt.figure(figsize=(20,6))\n",
    "sns.countplot(data['cylinders'])\n",
    "plt.show()\n"
   ]
  },
  {
   "cell_type": "markdown",
   "metadata": {},
   "source": [
    "mostly cars are with 4 cylinders."
   ]
  },
  {
   "cell_type": "code",
   "execution_count": 25,
   "metadata": {},
   "outputs": [
    {
     "name": "stderr",
     "output_type": "stream",
     "text": [
      "C:\\Users\\Admin\\anaconda3\\lib\\site-packages\\seaborn\\_decorators.py:36: FutureWarning: Pass the following variables as keyword args: x, y. From version 0.12, the only valid positional argument will be `data`, and passing other arguments without an explicit keyword will result in an error or misinterpretation.\n",
      "  warnings.warn(\n"
     ]
    },
    {
     "data": {
      "image/png": "[encoded data removed]",
      "text/plain": [
       "<Figure size 1440x720 with 1 Axes>"
      ]
     },
     "metadata": {
      "needs_background": "light"
     },
     "output_type": "display_data"
    }
   ],
   "source": [
    "plt.figure(figsize=(20,10))\n",
    "sns.barplot('car_name','cylinders', data=data)\n",
    "plt.xticks(rotation='vertical')\n",
    "plt.show()"
   ]
  },
  {
   "cell_type": "code",
   "execution_count": 26,
   "metadata": {},
   "outputs": [
    {
     "name": "stderr",
     "output_type": "stream",
     "text": [
      "C:\\Users\\Admin\\anaconda3\\lib\\site-packages\\seaborn\\_decorators.py:36: FutureWarning: Pass the following variables as keyword args: x, y. From version 0.12, the only valid positional argument will be `data`, and passing other arguments without an explicit keyword will result in an error or misinterpretation.\n",
      "  warnings.warn(\n"
     ]
    },
    {
     "data": {
      "image/png": "[encoded data removed]",
      "text/plain": [
       "<Figure size 432x288 with 1 Axes>"
      ]
     },
     "metadata": {
      "needs_background": "light"
     },
     "output_type": "display_data"
    }
   ],
   "source": [
    "sns.scatterplot( 'cylinders','mpg', data=data)\n",
    "plt.grid()\n",
    "plt.show()"
   ]
  },
  {
   "cell_type": "markdown",
   "metadata": {},
   "source": [
    "we can analyse that those cars has 4 cylinder is great in mileage.and mostly cars have 4 cylinders, very few cars have 5 cylinder which are good mileage but cars with 8 cylinders gives low mileage."
   ]
  },
  {
   "cell_type": "code",
   "execution_count": 27,
   "metadata": {},
   "outputs": [
    {
     "name": "stderr",
     "output_type": "stream",
     "text": [
      "C:\\Users\\Admin\\anaconda3\\lib\\site-packages\\seaborn\\_decorators.py:36: FutureWarning: Pass the following variables as keyword args: x, y. From version 0.12, the only valid positional argument will be `data`, and passing other arguments without an explicit keyword will result in an error or misinterpretation.\n",
      "  warnings.warn(\n"
     ]
    },
    {
     "data": {
      "image/png": "[encoded data removed]",
      "text/plain": [
       "<Figure size 432x288 with 1 Axes>"
      ]
     },
     "metadata": {
      "needs_background": "light"
     },
     "output_type": "display_data"
    }
   ],
   "source": [
    "sns.scatterplot('model year','mpg',data=data)\n",
    "plt.show()"
   ]
  },
  {
   "cell_type": "markdown",
   "metadata": {},
   "source": [
    "77-82 years model are given high mileage, model of 71 year model also give good mileage. model of year 78,80 and 82 gives higher mileage."
   ]
  },
  {
   "cell_type": "code",
   "execution_count": 28,
   "metadata": {},
   "outputs": [
    {
     "data": {
      "image/png": "[encoded data removed]",
      "text/plain": [
       "<Figure size 432x288 with 2 Axes>"
      ]
     },
     "metadata": {
      "needs_background": "light"
     },
     "output_type": "display_data"
    }
   ],
   "source": [
    "sns.heatmap(data.corr(), annot=True)\n",
    "plt.show()"
   ]
  },
  {
   "cell_type": "markdown",
   "metadata": {},
   "source": [
    "target features mpg has strong correlation with displacement, weight, cylinders features."
   ]
  },
  {
   "cell_type": "code",
   "execution_count": 29,
   "metadata": {},
   "outputs": [],
   "source": [
    "data=data.drop(['car_name', 'car_model'], axis=1)"
   ]
  },
  {
   "cell_type": "markdown",
   "metadata": {},
   "source": [
    "we can predict better model after removing these two features car_name, car_model."
   ]
  },
  {
   "cell_type": "code",
   "execution_count": 30,
   "metadata": {},
   "outputs": [],
   "source": [
    "features=data.drop(['mpg'], axis=1)\n",
    "label=data['mpg'].copy()"
   ]
  },
  {
   "cell_type": "markdown",
   "metadata": {},
   "source": [
    "# Train-Test Split"
   ]
  },
  {
   "cell_type": "code",
   "execution_count": 31,
   "metadata": {},
   "outputs": [],
   "source": [
    "from sklearn.model_selection import train_test_split\n",
    "train_x, test_x, train_y, test_y=train_test_split(features, label, test_size=0.2, random_state=42)"
   ]
  },
  {
   "cell_type": "markdown",
   "metadata": {},
   "source": [
    "## Linear Regression"
   ]
  },
  {
   "cell_type": "code",
   "execution_count": 32,
   "metadata": {},
   "outputs": [],
   "source": [
    "from sklearn.linear_model import LinearRegression"
   ]
  },
  {
   "cell_type": "code",
   "execution_count": 33,
   "metadata": {},
   "outputs": [],
   "source": [
    "lr=LinearRegression()"
   ]
  },
  {
   "cell_type": "code",
   "execution_count": 34,
   "metadata": {},
   "outputs": [],
   "source": [
    "from sklearn.preprocessing import StandardScaler\n",
    "scaler = StandardScaler()\n",
    "\n",
    "train_x = scaler.fit_transform(train_x)\n",
    "test_x = scaler.transform(test_x)"
   ]
  },
  {
   "cell_type": "code",
   "execution_count": 35,
   "metadata": {},
   "outputs": [
    {
     "data": {
      "text/plain": [
       "LinearRegression()"
      ]
     },
     "execution_count": 35,
     "metadata": {},
     "output_type": "execute_result"
    }
   ],
   "source": [
    "lr.fit(train_x, train_y)"
   ]
  },
  {
   "cell_type": "code",
   "execution_count": 37,
   "metadata": {},
   "outputs": [],
   "source": [
    "pred_train=lr.predict(train_x)"
   ]
  },
  {
   "cell_type": "code",
   "execution_count": 38,
   "metadata": {},
   "outputs": [],
   "source": [
    "pred_test=lr.predict(test_x)"
   ]
  },
  {
   "cell_type": "code",
   "execution_count": 42,
   "metadata": {},
   "outputs": [
    {
     "data": {
      "text/plain": [
       "array([15.15668885, 25.28488962, 35.94369974, 34.28903526, 24.31625519,\n",
       "       11.37192142, 33.1622253 , 30.3962697 , 26.94162938,  8.40753713])"
      ]
     },
     "execution_count": 42,
     "metadata": {},
     "output_type": "execute_result"
    }
   ],
   "source": [
    "pred_train[:10]"
   ]
  },
  {
   "cell_type": "code",
   "execution_count": 43,
   "metadata": {},
   "outputs": [
    {
     "data": {
      "text/plain": [
       "array([32.90162366, 29.52650099, 21.38988233, 16.78804271, 12.49514894,\n",
       "       27.19593614, 27.87687512,  9.74165417, 16.88482014, 21.91256317])"
      ]
     },
     "execution_count": 43,
     "metadata": {},
     "output_type": "execute_result"
    }
   ],
   "source": [
    "pred_test[:10]"
   ]
  },
  {
   "cell_type": "code",
   "execution_count": 45,
   "metadata": {},
   "outputs": [
    {
     "data": {
      "text/plain": [
       "array([16. , 27. , 37. , 36.1, 23. , 14. , 32.8, 29.9, 20. , 12. ])"
      ]
     },
     "execution_count": 45,
     "metadata": {},
     "output_type": "execute_result"
    }
   ],
   "source": [
    "train_y.to_numpy()[:10]"
   ]
  },
  {
   "cell_type": "code",
   "execution_count": 47,
   "metadata": {},
   "outputs": [],
   "source": [
    "from sklearn.metrics import mean_absolute_error, mean_squared_error"
   ]
  },
  {
   "cell_type": "code",
   "execution_count": 48,
   "metadata": {},
   "outputs": [
    {
     "name": "stdout",
     "output_type": "stream",
     "text": [
      "Mean Absolute Error:  2.5979578115956183\n",
      "Mean Squared Error:  11.655072409197517\n",
      "Root Mean Squared Error:  1.6118181695202527\n"
     ]
    }
   ],
   "source": [
    "print('Mean Absolute Error: ', mean_absolute_error(train_y, pred_train))\n",
    "print('Mean Squared Error: ', mean_squared_error(train_y, pred_train))\n",
    "print('Root Mean Squared Error: ', np.sqrt(mean_absolute_error(train_y, pred_train)))"
   ]
  },
  {
   "cell_type": "code",
   "execution_count": 136,
   "metadata": {},
   "outputs": [
    {
     "name": "stdout",
     "output_type": "stream",
     "text": [
      "Accuracy:  81.41024777574724\n"
     ]
    }
   ],
   "source": [
    "from sklearn.metrics import r2_score\n",
    "r2_lr=r2_score(train_y, pred_train)\n",
    "print(\"Accuracy: \", r2_lr*100)"
   ]
  },
  {
   "cell_type": "code",
   "execution_count": 51,
   "metadata": {},
   "outputs": [
    {
     "data": {
      "image/png": "[encoded data removed]",
      "text/plain": [
       "<Figure size 432x288 with 1 Axes>"
      ]
     },
     "metadata": {
      "needs_background": "light"
     },
     "output_type": "display_data"
    }
   ],
   "source": [
    "plt.scatter(train_y, pred_train)\n",
    "plt.xlabel(\"Prices\")\n",
    "plt.ylabel(\"Predicted Prices\")\n",
    "plt.title(\"Prices vs Predicted Prices\")\n",
    "plt.show()"
   ]
  },
  {
   "cell_type": "markdown",
   "metadata": {},
   "source": [
    "# Ridge Regression"
   ]
  },
  {
   "cell_type": "code",
   "execution_count": 60,
   "metadata": {},
   "outputs": [],
   "source": [
    "from sklearn.linear_model import Ridge\n",
    "from sklearn.model_selection import GridSearchCV"
   ]
  },
  {
   "cell_type": "code",
   "execution_count": 62,
   "metadata": {},
   "outputs": [
    {
     "data": {
      "text/plain": [
       "GridSearchCV(cv=5, estimator=Ridge(alpha=1, solver='cholesky'),\n",
       "             param_grid={'alpha': [1, 5, 10, 20, 30, 35, 40, 45, 50, 55, 100]},\n",
       "             scoring='neg_mean_squared_error')"
      ]
     },
     "execution_count": 62,
     "metadata": {},
     "output_type": "execute_result"
    }
   ],
   "source": [
    "rg_lin=Ridge(alpha=1, solver='cholesky')\n",
    "parameters={'alpha': [1,5,10,20,30,35,40,45,50,55,100]}\n",
    "ridge_regressor=GridSearchCV(rg_lin,parameters, scoring='neg_mean_squared_error', cv=5)\n",
    "ridge_regressor.fit(train_x, train_y)"
   ]
  },
  {
   "cell_type": "code",
   "execution_count": 63,
   "metadata": {},
   "outputs": [
    {
     "name": "stdout",
     "output_type": "stream",
     "text": [
      "{'alpha': 1}\n",
      "-12.256594190804016\n"
     ]
    }
   ],
   "source": [
    "print(ridge_regressor.best_params_)\n",
    "print(ridge_regressor.best_score_)"
   ]
  },
  {
   "cell_type": "markdown",
   "metadata": {},
   "source": [
    "ridge regression shrinks the coefficients and it helps to reduce the model complexity and multi-collinearity. The parameter is 1 and best score is 12.25. "
   ]
  },
  {
   "cell_type": "code",
   "execution_count": 135,
   "metadata": {},
   "outputs": [
    {
     "name": "stdout",
     "output_type": "stream",
     "text": [
      "Accuracy:  81.40323189099763\n"
     ]
    }
   ],
   "source": [
    "pred_ridge=ridge_regressor.predict(train_x)\n",
    "r2_ridge=r2_score(train_y, pred_ridge)\n",
    "print(\"Accuracy: \", r2_ridge*100)"
   ]
  },
  {
   "cell_type": "markdown",
   "metadata": {},
   "source": [
    "# Lasso Regression"
   ]
  },
  {
   "cell_type": "code",
   "execution_count": 89,
   "metadata": {},
   "outputs": [],
   "source": [
    "from sklearn.linear_model import Lasso"
   ]
  },
  {
   "cell_type": "code",
   "execution_count": 90,
   "metadata": {},
   "outputs": [
    {
     "data": {
      "text/plain": [
       "GridSearchCV(cv=5, estimator=Lasso(),\n",
       "             param_grid={'alpha': [1, 5, 10, 20, 30, 35, 40, 45, 50, 55, 100]},\n",
       "             scoring='neg_mean_squared_error')"
      ]
     },
     "execution_count": 90,
     "metadata": {},
     "output_type": "execute_result"
    }
   ],
   "source": [
    "ls_lin=Lasso()\n",
    "parameters={'alpha':[1, 5, 10, 20, 30, 35, 40, 45, 50, 55, 100]}\n",
    "lasso_regressor=GridSearchCV(ls_lin, parameters, scoring=\"neg_mean_squared_error\", cv=5)\n",
    "lasso_regressor.fit(train_x, train_y)"
   ]
  },
  {
   "cell_type": "code",
   "execution_count": 91,
   "metadata": {},
   "outputs": [
    {
     "name": "stdout",
     "output_type": "stream",
     "text": [
      "{'alpha': 1}\n",
      "-13.899372861098978\n"
     ]
    }
   ],
   "source": [
    "print(lasso_regressor.best_params_)\n",
    "print(lasso_regressor.best_score_)"
   ]
  },
  {
   "cell_type": "code",
   "execution_count": 102,
   "metadata": {},
   "outputs": [
    {
     "data": {
      "text/plain": [
       "Lasso(alpha=0.001)"
      ]
     },
     "execution_count": 102,
     "metadata": {},
     "output_type": "execute_result"
    }
   ],
   "source": [
    "ls=Lasso(alpha=0.001)\n",
    "ls.fit(train_x, train_y)"
   ]
  },
  {
   "cell_type": "code",
   "execution_count": 116,
   "metadata": {},
   "outputs": [],
   "source": [
    "ls_score=ls.score(train_x, train_y)\n",
    "ls_score_test=ls.score(test_x, test_y)"
   ]
  },
  {
   "cell_type": "code",
   "execution_count": 108,
   "metadata": {},
   "outputs": [],
   "source": [
    "coeff_used=np.sum(ls.coef_!=0)"
   ]
  },
  {
   "cell_type": "code",
   "execution_count": 122,
   "metadata": {},
   "outputs": [],
   "source": [
    "ls_001=ls_lin.score(train_x, train_y)\n",
    "ls_001_test=ls_lin.score(test_x, test_y)"
   ]
  },
  {
   "cell_type": "code",
   "execution_count": 114,
   "metadata": {},
   "outputs": [],
   "source": [
    "coeff=np.sum(ls_lin.coef_!=0)"
   ]
  },
  {
   "cell_type": "code",
   "execution_count": 123,
   "metadata": {},
   "outputs": [
    {
     "name": "stdout",
     "output_type": "stream",
     "text": [
      "training score for alpha=0.0001: 0.8141009076849436\n",
      "test score for alpha=0.0001: 0.8474294380793667\n",
      "number of features used: for alpha =0.0001: 7\n",
      "training score for alpha=1: 0.783453928309565\n",
      "test score for alpha=1: 0.8383990613414276\n",
      "number of features used: for alpha =0.0001: 4\n"
     ]
    }
   ],
   "source": [
    "print(\"training score for alpha=0.0001:\", ls_score )\n",
    "print(\"test score for alpha=0.0001:\", ls_score_test )\n",
    "print (\"number of features used: for alpha =0.0001:\", coeff_used)\n",
    "\n",
    "print(\"training score for alpha=1:\", ls_001)\n",
    "print(\"test score for alpha=1:\", ls_001_test )\n",
    "print(\"number of features used: for alpha =0.0001:\", coeff)"
   ]
  },
  {
   "cell_type": "markdown",
   "metadata": {},
   "source": [
    "The default value of regularization parameter in Lasso is 1(alpha =1). with this, out of 8 features 4 features are used.\n",
    "We can analyse that both train and test score are low in case of alpha=1, so model underfitting this dataset.\n",
    "Reduce this under-fitting by reducing alpha and increasing number of iterations. Now α = 0.001, non-zero features =7, training and test score increases."
   ]
  },
  {
   "cell_type": "code",
   "execution_count": 134,
   "metadata": {},
   "outputs": [
    {
     "name": "stdout",
     "output_type": "stream",
     "text": [
      "Accuracy:  78.3453928309565\n"
     ]
    }
   ],
   "source": [
    "pred_lasso=ls_lin.predict(train_x)\n",
    "r2_lasso=r2_score(train_y, pred_lasso)\n",
    "print(\"Accuracy: \", r2_lasso*100)"
   ]
  },
  {
   "cell_type": "markdown",
   "metadata": {},
   "source": [
    "# Random Forest"
   ]
  },
  {
   "cell_type": "code",
   "execution_count": 129,
   "metadata": {},
   "outputs": [],
   "source": [
    "from sklearn.ensemble import RandomForestRegressor"
   ]
  },
  {
   "cell_type": "code",
   "execution_count": 130,
   "metadata": {},
   "outputs": [],
   "source": [
    "rand_for=RandomForestRegressor()"
   ]
  },
  {
   "cell_type": "code",
   "execution_count": 131,
   "metadata": {},
   "outputs": [
    {
     "data": {
      "text/plain": [
       "RandomForestRegressor()"
      ]
     },
     "execution_count": 131,
     "metadata": {},
     "output_type": "execute_result"
    }
   ],
   "source": [
    "rand_for.fit(train_x, train_y)"
   ]
  },
  {
   "cell_type": "code",
   "execution_count": 132,
   "metadata": {},
   "outputs": [],
   "source": [
    "rand_pred=rand_for.predict(train_x)"
   ]
  },
  {
   "cell_type": "code",
   "execution_count": 133,
   "metadata": {},
   "outputs": [
    {
     "name": "stdout",
     "output_type": "stream",
     "text": [
      "Mean Absolute Error:  0.7402830188679245\n",
      "Mean Squared Error:  1.1362184402515727\n",
      "Root Mean Squared Error:  0.8603970123541367\n"
     ]
    }
   ],
   "source": [
    "print('Mean Absolute Error: ', mean_absolute_error(train_y, rand_pred))\n",
    "print('Mean Squared Error: ', mean_squared_error(train_y, rand_pred))\n",
    "print('Root Mean Squared Error: ', np.sqrt(mean_absolute_error(train_y, rand_pred)))"
   ]
  },
  {
   "cell_type": "code",
   "execution_count": 137,
   "metadata": {},
   "outputs": [
    {
     "name": "stdout",
     "output_type": "stream",
     "text": [
      "Accuracy:  78.3453928309565\n"
     ]
    }
   ],
   "source": [
    "r2_rand=r2_score(train_y, pred_lasso)\n",
    "print(\"Accuracy: \", r2_rand*100)"
   ]
  },
  {
   "cell_type": "code",
   "execution_count": 139,
   "metadata": {},
   "outputs": [
    {
     "data": {
      "text/html": [
       "<style  type=\"text/css\" >\n",
       "    #T_b59d2074_95c2_11eb_9a6e_5800e38b14aarow0_col1 {\n",
       "            background-color:  #008066;\n",
       "            color:  #f1f1f1;\n",
       "        }    #T_b59d2074_95c2_11eb_9a6e_5800e38b14aarow1_col1 {\n",
       "            background-color:  #008066;\n",
       "            color:  #f1f1f1;\n",
       "        }    #T_b59d2074_95c2_11eb_9a6e_5800e38b14aarow2_col1 {\n",
       "            background-color:  #ffff66;\n",
       "            color:  #000000;\n",
       "        }    #T_b59d2074_95c2_11eb_9a6e_5800e38b14aarow3_col1 {\n",
       "            background-color:  #ffff66;\n",
       "            color:  #000000;\n",
       "        }</style><table id=\"T_b59d2074_95c2_11eb_9a6e_5800e38b14aa\" ><thead>    <tr>        <th class=\"blank level0\" ></th>        <th class=\"col_heading level0 col0\" >Model</th>        <th class=\"col_heading level0 col1\" >R2 SCORE</th>    </tr></thead><tbody>\n",
       "                <tr>\n",
       "                        <th id=\"T_b59d2074_95c2_11eb_9a6e_5800e38b14aalevel0_row0\" class=\"row_heading level0 row0\" >2</th>\n",
       "                        <td id=\"T_b59d2074_95c2_11eb_9a6e_5800e38b14aarow0_col0\" class=\"data row0 col0\" >LASSO</td>\n",
       "                        <td id=\"T_b59d2074_95c2_11eb_9a6e_5800e38b14aarow0_col1\" class=\"data row0 col1\" >0.783454</td>\n",
       "            </tr>\n",
       "            <tr>\n",
       "                        <th id=\"T_b59d2074_95c2_11eb_9a6e_5800e38b14aalevel0_row1\" class=\"row_heading level0 row1\" >3</th>\n",
       "                        <td id=\"T_b59d2074_95c2_11eb_9a6e_5800e38b14aarow1_col0\" class=\"data row1 col0\" >Random forest</td>\n",
       "                        <td id=\"T_b59d2074_95c2_11eb_9a6e_5800e38b14aarow1_col1\" class=\"data row1 col1\" >0.783454</td>\n",
       "            </tr>\n",
       "            <tr>\n",
       "                        <th id=\"T_b59d2074_95c2_11eb_9a6e_5800e38b14aalevel0_row2\" class=\"row_heading level0 row2\" >1</th>\n",
       "                        <td id=\"T_b59d2074_95c2_11eb_9a6e_5800e38b14aarow2_col0\" class=\"data row2 col0\" >RIDGE</td>\n",
       "                        <td id=\"T_b59d2074_95c2_11eb_9a6e_5800e38b14aarow2_col1\" class=\"data row2 col1\" >0.814032</td>\n",
       "            </tr>\n",
       "            <tr>\n",
       "                        <th id=\"T_b59d2074_95c2_11eb_9a6e_5800e38b14aalevel0_row3\" class=\"row_heading level0 row3\" >0</th>\n",
       "                        <td id=\"T_b59d2074_95c2_11eb_9a6e_5800e38b14aarow3_col0\" class=\"data row3 col0\" >LINEAR</td>\n",
       "                        <td id=\"T_b59d2074_95c2_11eb_9a6e_5800e38b14aarow3_col1\" class=\"data row3 col1\" >0.814102</td>\n",
       "            </tr>\n",
       "    </tbody></table>"
      ],
      "text/plain": [
       "<pandas.io.formats.style.Styler at 0x288ca40bd30>"
      ]
     },
     "execution_count": 139,
     "metadata": {},
     "output_type": "execute_result"
    }
   ],
   "source": [
    "model_names = [\"LINEAR\",\"RIDGE\",\"LASSO\",\"Random forest\"]\n",
    "\n",
    "models = {\"Model\":model_names,\n",
    "          \"R2 SCORE\":[r2_lr, r2_ridge, r2_lasso,r2_rand]}\n",
    "\n",
    "model_performance = pd.DataFrame(models)\n",
    "\n",
    "model_performance.sort_values(by = \"R2 SCORE\",kind='quicksort', ascending=True).style.background_gradient(cmap='summer')"
   ]
  },
  {
   "cell_type": "markdown",
   "metadata": {},
   "source": [
    "the above shows the r2 score of each models. Ridge and Linear model have same accuracy. Our model accuracy is 81% "
   ]
  },
  {
   "cell_type": "markdown",
   "metadata": {},
   "source": [
    "### Evaluation the model on Test Data"
   ]
  },
  {
   "cell_type": "code",
   "execution_count": 164,
   "metadata": {},
   "outputs": [],
   "source": [
    "final_model = grid_search.best_estimator_"
   ]
  },
  {
   "cell_type": "code",
   "execution_count": 165,
   "metadata": {},
   "outputs": [
    {
     "data": {
      "text/plain": [
       "array([[-0.85051483, -0.98134964, -1.34342095, -1.39881183,  0.63795339,\n",
       "        -0.02884597,  1.73836775],\n",
       "       [-0.85051483, -0.69930815, -0.64331887, -0.40988656,  1.07290607,\n",
       "         1.63897537, -0.72949361],\n",
       "       [ 0.33833667,  0.38995555, -0.07785181, -0.39916327, -0.9568731 ,\n",
       "        -1.41869708, -0.72949361],\n",
       "       [ 1.52718818,  1.22635446,  1.26849834,  1.15690469, -0.88438099,\n",
       "        -0.02884597, -0.72949361],\n",
       "       [ 1.52718818,  1.22635446,  1.26849834,  1.51077313, -0.41318225,\n",
       "        -0.86275663, -0.72949361],\n",
       "       [-0.85051483, -0.92299623, -0.40097585, -1.03541158,  0.31173888,\n",
       "        -1.14072686,  1.73836775],\n",
       "       [-0.85051483, -0.50479678, -0.29326784, -0.12393226,  0.27549283,\n",
       "         1.63897537, -0.72949361],\n",
       "       [ 1.52718818,  2.41287384,  3.01875354,  2.10412829, -1.68179423,\n",
       "        -0.86275663, -0.72949361],\n",
       "       [ 1.52718818,  0.66227147,  0.19141822,  1.29988184,  1.2178903 ,\n",
       "         0.24912426, -0.72949361],\n",
       "       [ 0.33833667,  0.07873735, -0.0372991 , -0.1120175 ,  0.49296917,\n",
       "        -0.58478641, -0.72949361],\n",
       "       [ 1.52718818,  1.92659541,  2.34557846,  1.04967183, -2.58794565,\n",
       "        -1.6966673 , -0.72949361],\n",
       "       [-0.85051483, -0.98134964, -0.96644291, -1.19626087, -0.23195197,\n",
       "         1.63897537,  1.73836775],\n",
       "       [-0.85051483, -0.98134964, -0.8856619 , -1.20817563,  1.76158115,\n",
       "        -1.41869708, -0.72949361],\n",
       "       [ 1.52718818,  1.0901965 ,  1.26849834,  1.09971383, -1.13810338,\n",
       "        -1.14072686, -0.72949361],\n",
       "       [-0.85051483, -0.50479678, -0.75102689, -0.50877909,  0.49296917,\n",
       "        -0.58478641, -0.72949361],\n",
       "       [ 1.52718818,  1.85851643,  2.07630843,  2.36625306, -1.50056395,\n",
       "        -1.41869708, -0.72949361],\n",
       "       [-0.85051483, -0.7771127 , -0.48175686, -0.46946037,  0.20300071,\n",
       "         1.63897537, -0.72949361],\n",
       "       [ 0.33833667, -0.28110869,  0.59532326,  0.2037237 , -0.73939676,\n",
       "         0.52709448,  0.50443707],\n",
       "       [ 1.52718818,  2.02385109,  2.07630843,  1.49051803, -1.64554818,\n",
       "         0.24912426, -0.72949361],\n",
       "       [-0.85051483, -0.98134964, -0.93951591, -1.19030349,  0.71044551,\n",
       "         1.63897537,  1.73836775],\n",
       "       [-0.85051483, -0.68958258, -0.72409988, -0.54571485,  0.85542973,\n",
       "        -1.14072686,  0.50443707],\n",
       "       [ 0.33833667,  0.05928621, -0.21248683, -0.1620595 , -0.05072168,\n",
       "        -1.6966673 , -0.72949361],\n",
       "       [ 0.33833667,  0.38995555,  0.24527222, -0.15967655, -0.34069014,\n",
       "         1.63897537, -0.72949361],\n",
       "       [-0.85051483, -0.91327066, -0.53561086, -1.06519849,  0.09426254,\n",
       "         0.24912426, -0.72949361],\n",
       "       [ 1.52718818,  1.1193732 ,  0.72995828,  0.63742105, -1.31933367,\n",
       "        -1.6966673 , -0.72949361],\n",
       "       [-0.85051483, -0.92299623, -1.37034796, -0.99966729,  3.24766948,\n",
       "         1.63897537,  0.50443707],\n",
       "       [-0.85051483, -0.91327066, -0.34712184, -0.838818  , -0.05072168,\n",
       "        -0.86275663,  0.50443707],\n",
       "       [-0.85051483, -0.39781552, -0.40097585, -0.27286679,  0.1305086 ,\n",
       "         0.24912426, -0.72949361],\n",
       "       [ 0.33833667,  0.64282033,  0.46068825,  0.52542228, -0.19570591,\n",
       "         0.52709448, -0.72949361],\n",
       "       [ 1.52718818,  2.02385109,  1.72625739,  2.30787073, -1.13810338,\n",
       "        -0.86275663, -0.72949361],\n",
       "       [-0.85051483, -0.50479678, -0.45482985, -0.21329298, -0.01447563,\n",
       "         1.63897537, -0.72949361],\n",
       "       [-0.85051483, -0.84519168, -0.77795389, -1.17838873, -0.1232138 ,\n",
       "         1.63897537,  0.50443707],\n",
       "       [ 1.52718818,  1.53757266,  0.59532326,  1.10924564,  0.63795339,\n",
       "         0.8050647 , -0.72949361],\n",
       "       [-0.85051483, -0.76738713, -0.21248683, -0.82332881, -0.05072168,\n",
       "        -1.14072686,  1.73836775],\n",
       "       [-0.85051483, -1.02997749, -1.02029692, -1.13192115,  0.27549283,\n",
       "         1.08303492,  1.73836775],\n",
       "       [ 1.52718818,  2.02385109,  3.42265858,  1.55962365, -2.22548508,\n",
       "        -0.86275663, -0.72949361],\n",
       "       [ 0.33833667, -0.35891324,  0.11063721, -0.59218242, -0.59441253,\n",
       "        -0.86275663, -0.72949361],\n",
       "       [ 1.52718818,  1.09992206,  1.13386332,  0.54329443, -0.88438099,\n",
       "         0.52709448, -0.72949361],\n",
       "       [ 1.52718818,  1.22635446,  1.26849834,  1.82174843, -0.41318225,\n",
       "        -0.30681619, -0.72949361],\n",
       "       [-0.85051483, -0.91327066, -0.53561086, -0.89362591,  0.31173888,\n",
       "        -0.58478641,  0.50443707],\n",
       "       [ 0.33833667, -0.18385301,  0.32605323, -0.32052584, -0.99311916,\n",
       "         0.8050647 , -0.72949361],\n",
       "       [-0.85051483, -0.92299623, -1.15493193, -1.35234426,  1.2178903 ,\n",
       "        -1.41869708,  0.50443707],\n",
       "       [-0.85051483, -0.68958258,  0.24527222, -0.04291188, -0.41318225,\n",
       "        -1.14072686,  0.50443707],\n",
       "       [ 1.52718818,  1.63482835,  3.01875354,  1.96115114, -0.59441253,\n",
       "        -1.6966673 , -0.72949361],\n",
       "       [-0.85051483, -0.69930815, -0.15863282, -0.55167223, -0.41318225,\n",
       "        -1.14072686,  1.73836775],\n",
       "       [-0.85051483, -0.69930815, -0.40097585, -0.96392301, -0.41318225,\n",
       "         1.63897537,  1.73836775],\n",
       "       [-0.85051483, -0.73821043, -0.75102689, -0.86145605, -0.59441253,\n",
       "        -0.58478641,  0.50443707],\n",
       "       [-0.85051483, -0.68958258,  0.32605323, -0.35507865, -0.77564282,\n",
       "        -0.30681619,  0.50443707],\n",
       "       [-0.85051483, -0.85491725, -0.21248683, -0.70775562,  0.67419945,\n",
       "        -1.6966673 ,  0.50443707],\n",
       "       [-0.85051483, -0.99107521, -0.8587349 , -0.88886   ,  0.31173888,\n",
       "        -0.30681619,  0.50443707],\n",
       "       [-0.85051483, -0.50479678, -0.8318079 , -0.6684369 ,  1.2178903 ,\n",
       "        -1.41869708, -0.72949361],\n",
       "       [-0.85051483, -1.02997749, -1.02029692, -1.18434611, -0.15945985,\n",
       "         0.8050647 ,  1.73836775],\n",
       "       [-0.85051483, -0.82574054, -0.8318079 , -0.8090311 ,  0.49296917,\n",
       "         1.08303492,  1.73836775],\n",
       "       [ 1.52718818,  2.02385109,  2.34557846,  1.73119623, -1.13810338,\n",
       "        -1.14072686, -0.72949361],\n",
       "       [ 0.33833667, -0.18385301,  0.19141822, -0.29073893, -1.10185733,\n",
       "         1.36100515, -0.72949361],\n",
       "       [ 1.52718818,  2.02385109,  1.94167341,  1.78123823, -1.50056395,\n",
       "        -1.41869708, -0.72949361],\n",
       "       [ 1.52718818,  1.63482835,  1.26849834,  1.15690469, -0.9568731 ,\n",
       "         0.8050647 , -0.72949361],\n",
       "       [-0.85051483, -0.56315019, -0.34712184, -0.3074196 , -0.05072168,\n",
       "         1.08303492,  1.73836775],\n",
       "       [-0.85051483, -0.50479678, -0.34712184, -0.84000948, -0.05072168,\n",
       "        -1.41869708, -0.72949361],\n",
       "       [ 0.33833667,  0.32187657, -0.21248683,  0.35146675,  0.1305086 ,\n",
       "        -0.30681619, -0.72949361],\n",
       "       [ 1.52718818,  1.53757266,  2.07630843,  0.82805725, -1.68179423,\n",
       "        -0.86275663, -0.72949361],\n",
       "       [-0.85051483, -0.98134964, -1.34342095, -1.39881183,  0.67419945,\n",
       "        -0.30681619,  1.73836775],\n",
       "       [-0.85051483, -0.50479678, -0.53561086, -0.39320589,  0.49296917,\n",
       "        -0.30681619, -0.72949361],\n",
       "       [-0.85051483, -0.69930815, -0.42790285,  0.01189603,  1.39912058,\n",
       "        -1.14072686,  0.50443707],\n",
       "       [ 0.33833667,  0.05928621, -0.21248683, -0.07746469,  0.1305086 ,\n",
       "        -0.86275663, -0.72949361],\n",
       "       [-0.85051483, -0.76738713, -0.21248683, -0.88290262, -0.59441253,\n",
       "        -1.41869708,  1.73836775],\n",
       "       [-0.85051483, -0.39781552, -0.48175686, -0.13584702,  0.71044551,\n",
       "         0.52709448, -0.72949361],\n",
       "       [-0.85051483, -0.91327066, -1.02029692, -1.10094277,  0.20300071,\n",
       "         1.36100515, -0.72949361],\n",
       "       [-0.85051483, -0.91327066, -1.15493193, -0.9591571 ,  2.34151806,\n",
       "        -0.02884597, -0.72949361],\n",
       "       [ 1.52718818,  1.1193732 ,  0.72995828,  1.34515793, -0.59441253,\n",
       "        -1.14072686, -0.72949361],\n",
       "       [-0.85051483, -0.84519168, -1.07415092, -0.89839181, -0.26819802,\n",
       "         1.36100515, -0.72949361],\n",
       "       [ 1.52718818,  1.0901965 ,  1.26849834,  1.53460265, -0.05072168,\n",
       "        -0.58478641, -0.72949361],\n",
       "       [ 1.52718818,  2.30589259,  2.56099448,  1.63468666, -2.0442548 ,\n",
       "        -1.6966673 , -0.72949361],\n",
       "       [ 0.33833667,  0.64282033,  0.19141822, -0.00835907, -0.77564282,\n",
       "        -1.41869708, -0.72949361],\n",
       "       [ 0.33833667, -0.10604846,  0.19141822, -0.02861416,  0.27549283,\n",
       "         1.63897537, -0.72949361],\n",
       "       [ 1.52718818,  0.66227147,  0.19141822,  0.47180585, -0.05072168,\n",
       "         0.52709448, -0.72949361],\n",
       "       [ 0.33833667,  0.56501578,  0.19141822,  0.65648467,  0.27549283,\n",
       "         0.24912426, -0.72949361],\n",
       "       [-0.85051483, -0.7771127 , -0.40097585, -0.43371608,  1.43536664,\n",
       "         1.63897537, -0.72949361],\n",
       "       [-0.85051483, -0.99107521, -0.8856619 , -1.22962221, -0.59441253,\n",
       "        -0.30681619,  0.50443707],\n",
       "       [ 1.52718818,  1.09992206,  0.72995828,  1.03775706, -0.08696774,\n",
       "         0.8050647 , -0.72949361]])"
      ]
     },
     "execution_count": 165,
     "metadata": {},
     "output_type": "execute_result"
    }
   ],
   "source": [
    "test_x"
   ]
  },
  {
   "cell_type": "code",
   "execution_count": 166,
   "metadata": {},
   "outputs": [
    {
     "data": {
      "text/plain": [
       "198    33.0\n",
       "396    28.0\n",
       "33     19.0\n",
       "208    13.0\n",
       "93     14.0\n",
       "       ... \n",
       "249    19.9\n",
       "225    17.5\n",
       "367    28.0\n",
       "175    29.0\n",
       "285    17.0\n",
       "Name: mpg, Length: 80, dtype: float64"
      ]
     },
     "execution_count": 166,
     "metadata": {},
     "output_type": "execute_result"
    }
   ],
   "source": [
    "test_y"
   ]
  },
  {
   "cell_type": "code",
   "execution_count": 167,
   "metadata": {},
   "outputs": [],
   "source": [
    "final_predictions = final_model.predict(test_x)"
   ]
  },
  {
   "cell_type": "code",
   "execution_count": 170,
   "metadata": {},
   "outputs": [],
   "source": [
    "final_mse = mean_squared_error(test_y, final_predictions)"
   ]
  },
  {
   "cell_type": "code",
   "execution_count": 171,
   "metadata": {},
   "outputs": [],
   "source": [
    "final_rmse = np.sqrt(final_mse)"
   ]
  },
  {
   "cell_type": "code",
   "execution_count": 172,
   "metadata": {},
   "outputs": [
    {
     "name": "stdout",
     "output_type": "stream",
     "text": [
      "Generalization Error:  2.2596851120356467\n"
     ]
    }
   ],
   "source": [
    "print(\"Generalization Error: \", final_rmse)"
   ]
  }
 ],
 "metadata": {
  "kernelspec": {
   "display_name": "Python 3",
   "language": "python",
   "name": "python3"
  },
  "language_info": {
   "codemirror_mode": {
    "name": "ipython",
    "version": 3
   },
   "file_extension": ".py",
   "mimetype": "text/x-python",
   "name": "python",
   "nbconvert_exporter": "python",
   "pygments_lexer": "ipython3",
   "version": "3.8.3"
  }
 },
 "nbformat": 4,
 "nbformat_minor": 4
}
